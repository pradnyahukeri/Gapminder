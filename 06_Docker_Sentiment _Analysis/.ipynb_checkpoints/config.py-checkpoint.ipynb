{
 "cells": [
  {
   "cell_type": "code",
   "execution_count": null,
   "id": "576a98a7",
   "metadata": {},
   "outputs": [],
   "source": [
    "tokens={\n",
    "    \"client_id\":\"CYHVCjvC6YMo7_GIEkj4fQ\",\n",
    "    \"secret\":\"0hzZ0w7ApI3ZR_zq0BVgkL9y_0Lf4Q\",\n",
    "    \"username\":\"Previous-Pen5755\",\n",
    "    \"password\":\"meepredditmeep\"\n",
    "    \n",
    "}\n",
    "    #email- mnw01805@omeie.com\n",
    "\n"
   ]
  }
 ],
 "metadata": {
  "kernelspec": {
   "display_name": "Python 3 (ipykernel)",
   "language": "python",
   "name": "python3"
  },
  "language_info": {
   "codemirror_mode": {
    "name": "ipython",
    "version": 3
   },
   "file_extension": ".py",
   "mimetype": "text/x-python",
   "name": "python",
   "nbconvert_exporter": "python",
   "pygments_lexer": "ipython3",
   "version": "3.10.9"
  }
 },
 "nbformat": 4,
 "nbformat_minor": 5
}
