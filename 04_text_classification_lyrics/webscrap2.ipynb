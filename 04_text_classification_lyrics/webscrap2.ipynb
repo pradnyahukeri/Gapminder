{
 "cells": [
  {
   "cell_type": "code",
   "execution_count": 1,
   "id": "515e7bd1",
   "metadata": {},
   "outputs": [],
   "source": [
    "import pandas as pd\n",
    "import numpy as np\n",
    "import requests\n",
    "import time\n",
    "import re"
   ]
  },
  {
   "cell_type": "code",
   "execution_count": 2,
   "id": "4f587550",
   "metadata": {},
   "outputs": [],
   "source": [
    "url=(\"https://www.lyrics.com/artist/Olivia-Rodrigo/2137845665\")\n",
    "header={'User-Agent': 'Mozilla/5.0 (Macintosh; Intel Mac OS X 10_10_1) AppleWebKit/537.36 (KHTML, like Gecko) Chrome/39.0.2171.95 Safari/537.36'}\n",
    "page = requests.get(url,header)"
   ]
  },
  {
   "cell_type": "code",
   "execution_count": 3,
   "id": "af3ee034",
   "metadata": {},
   "outputs": [],
   "source": [
    "link=re.findall(r'/lyric/\\d+',page.text)"
   ]
  },
  {
   "cell_type": "code",
   "execution_count": 6,
   "id": "56d3191b",
   "metadata": {},
   "outputs": [
    {
     "data": {
      "text/plain": [
       "['/lyric/36787072',\n",
       " '/lyric/36787077',\n",
       " '/lyric/36787082',\n",
       " '/lyric/36649024',\n",
       " '/lyric/36758220',\n",
       " '/lyric/36695088',\n",
       " '/lyric/36765125',\n",
       " '/lyric/36655024',\n",
       " '/lyric/36787076',\n",
       " '/lyric/36787081',\n",
       " '/lyric/36649023',\n",
       " '/lyric/36695087',\n",
       " '/lyric/36879508',\n",
       " '/lyric/36787083',\n",
       " '/lyric/37001365',\n",
       " '/lyric/36739910',\n",
       " '/lyric/36787088',\n",
       " '/lyric/37845688',\n",
       " '/lyric/37845700',\n",
       " '/lyric/37967528',\n",
       " '/lyric/37173169',\n",
       " '/lyric/37845680',\n",
       " '/lyric/38292086',\n",
       " '/lyric/38397690',\n",
       " '/lyric/37792945',\n",
       " '/lyric/38292085',\n",
       " '/lyric/38292084',\n",
       " '/lyric/38292090',\n",
       " '/lyric/38292082',\n",
       " '/lyric/38292087',\n",
       " '/lyric/38292080',\n",
       " '/lyric/38292089',\n",
       " '/lyric/38292081',\n",
       " '/lyric/38292083',\n",
       " '/lyric/38568767',\n",
       " '/lyric/36787087',\n",
       " '/lyric/37008833',\n",
       " '/lyric/38292088',\n",
       " '/lyric/36787078',\n",
       " '/lyric/37845678',\n",
       " '/lyric/37845679',\n",
       " '/lyric/37845689',\n",
       " '/lyric/38599179',\n",
       " '/lyric/38420400',\n",
       " '/lyric/38292491',\n",
       " '/lyric/1647108',\n",
       " '/lyric/0']"
      ]
     },
     "execution_count": 6,
     "metadata": {},
     "output_type": "execute_result"
    }
   ],
   "source": [
    "link"
   ]
  },
  {
   "cell_type": "code",
   "execution_count": 8,
   "id": "52af9c7d",
   "metadata": {},
   "outputs": [],
   "source": [
    "for i,song in enumerate(link):\n",
    "    url=\"https://www.lyrics.com\"+song\n",
    "    response=requests.get(url,header)\n",
    "    time.sleep(np.random.random())\n",
    "    with open (f'sng{i}.txt','w') as my_file:\n",
    "        my_file.write(response.text)"
   ]
  },
  {
   "cell_type": "code",
   "execution_count": null,
   "id": "89a3d388",
   "metadata": {},
   "outputs": [],
   "source": []
  }
 ],
 "metadata": {
  "kernelspec": {
   "display_name": "Python 3 (ipykernel)",
   "language": "python",
   "name": "python3"
  },
  "language_info": {
   "codemirror_mode": {
    "name": "ipython",
    "version": 3
   },
   "file_extension": ".py",
   "mimetype": "text/x-python",
   "name": "python",
   "nbconvert_exporter": "python",
   "pygments_lexer": "ipython3",
   "version": "3.10.9"
  }
 },
 "nbformat": 4,
 "nbformat_minor": 5
}
